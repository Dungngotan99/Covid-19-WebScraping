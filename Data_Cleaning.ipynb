{
 "cells": [
  {
   "cell_type": "code",
   "execution_count": 131,
   "metadata": {},
   "outputs": [],
   "source": [
    "import pandas as pd\n",
    "import re"
   ]
  },
  {
   "cell_type": "code",
   "execution_count": 132,
   "metadata": {},
   "outputs": [],
   "source": [
    "df = pd.read_csv('district_sample_covid.csv')\n",
    "df = df.drop(['rand_urban_dist', 'rand_non_urb_dist', 'leaid',\n",
    "        'nlscdsch','fipst', 'cnty', 'lat', 'lon',\n",
    "        'title_one', 'sch_level', 'gslo', 'gshi', 'g01',\n",
    "        'g02', 'g03', 'g04', 'g05', 'g06', 'g07', 'g08', 'g09',\n",
    "        'g10', 'g11','g12'], axis = 1)\n",
    "df = df.rename(columns = {'sch_name' : 'school','lea_name': 'district',\n",
    "                          'lcity': 'city','lstate':'state','nmcnty': 'county',\n",
    "                          'lstreet':'address','lzip':'zip'})\n",
    "df = df.astype('object')"
   ]
  },
  {
   "cell_type": "code",
   "execution_count": 133,
   "metadata": {},
   "outputs": [],
   "source": [
    "#Add leading zeros to zip codes\n",
    "df['zip']=df['zip'].apply(lambda x: str(x).zfill(5))\n",
    "#Converts to title case\n",
    "df = df.apply(lambda x: x.astype(str).str.title() if x.name not in ['address','state'] else x)"
   ]
  },
  {
   "cell_type": "code",
   "execution_count": 180,
   "metadata": {},
   "outputs": [],
   "source": [
    "#Assuming ignore case is used\n",
    "regex_dict = {\"\\bh\\s*s\\b\": 'High School',#replaces hs with high school\n",
    "              \"\\bm\\s*s\\b\": 'Middle School',#Same but for ms\n",
    "              \"\\be\\s*s\\b\": 'Elementary School',#same but for es\n",
    "              \"\\be\\s*l\\b\": 'Elementary',#replaces el with elementary school\n",
    "              \"\\bsch\\b\": \"School\",#replaces sch with school\n",
    "              \"\\balt\\b\": \"alternative\",#replaces alt with alternative\n",
    "              \"\\bhigh$\": \"High School\",#adds school as the final word if name ends with high\n",
    "              \"\\bElementary$\": \"Elementary School\",#adds school as the final word if name ends with middle\n",
    "              \"\\bmiddle$\": \"Middle School\",#adds school as the final word if name ends with elementary\n",
    "              \"/bacad/b\": \"Academy\",#Replaces acad with academy\n",
    "             }\n",
    "regex_list = [('\\bh\\s*s\\b', 'High School'),#replaces hs with high school\n",
    "              (\"\\bm\\s*s\\b\", 'Middle School'),#Same but for ms\n",
    "              (\"\\be\\s*s\\b\", 'Elementary School'),#same but for es\n",
    "              (\"\\be\\s*l\\b\", 'Elementary'),#replaces el with elementary school\n",
    "              (\"\\bsch\\b\", \"School\"),#replaces sch with school\n",
    "              (\"\\balt\\b\", \"alternative\"),#replaces alt with alternative\n",
    "              (\"\\bhigh$\", \"High School\"),#adds school as the final word if name ends with high\n",
    "              (\"\\bElementary$\", \"Elementary School\"),#adds school as the final word if name ends with middle\n",
    "              (\"\\bmiddle$\", \"Middle School\"),#adds school as the final word if name ends with elementary\n",
    "              (\"/bacad/b\", \"Academy\")#Replaces acad with academy\n",
    "             ]"
   ]
  },
  {
   "cell_type": "code",
   "execution_count": 196,
   "metadata": {},
   "outputs": [],
   "source": [
    "def name_cleaning(text):\n",
    "    for pattern, replacement in regex_list:\n",
    "         text = re.sub(pattern,replacement,p,re.I)\n",
    "    text = re.sub(\"school.*school\",lambda mo: mo.string[6:],text)#Removes the first occurnce of school if there are 2\n",
    "    return text"
   ]
  },
  {
   "cell_type": "code",
   "execution_count": 197,
   "metadata": {},
   "outputs": [],
   "source": [
    "df['cleaned'] = df['school'].apply(lambda x: name_cleaning(x))"
   ]
  },
  {
   "cell_type": "markdown",
   "metadata": {},
   "source": [
    "Note: Maybe we should filter by the school type so that its just elementary, high and middle\n",
    "Also question about whether we should add school to ones that end with elementary, middle, or high and then make sure it doesnt have school twice."
   ]
  },
  {
   "cell_type": "code",
   "execution_count": 200,
   "metadata": {},
   "outputs": [
    {
     "data": {
      "text/plain": [
       "'h s'"
      ]
     },
     "execution_count": 200,
     "metadata": {},
     "output_type": "execute_result"
    }
   ],
   "source": [
    "test = re.compile('\\bh\\s*s\\b')\n",
    "test.sub('hi',\"h s\")"
   ]
  },
  {
   "cell_type": "code",
   "execution_count": null,
   "metadata": {},
   "outputs": [],
   "source": []
  }
 ],
 "metadata": {
  "kernelspec": {
   "display_name": "Python 3",
   "language": "python",
   "name": "python3"
  },
  "language_info": {
   "codemirror_mode": {
    "name": "ipython",
    "version": 3
   },
   "file_extension": ".py",
   "mimetype": "text/x-python",
   "name": "python",
   "nbconvert_exporter": "python",
   "pygments_lexer": "ipython3",
   "version": "3.7.6"
  }
 },
 "nbformat": 4,
 "nbformat_minor": 4
}
