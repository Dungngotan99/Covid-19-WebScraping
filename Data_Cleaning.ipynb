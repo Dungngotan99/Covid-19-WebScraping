{
 "cells": [
  {
   "cell_type": "code",
   "execution_count": 2,
   "metadata": {},
   "outputs": [],
   "source": [
    "import pandas as pd\n",
    "import re"
   ]
  },
  {
   "cell_type": "code",
   "execution_count": 53,
   "metadata": {},
   "outputs": [],
   "source": [
    "# For reading the disctrict_sample_covid.csv file\n",
    "# df = pd.read_csv('district_sample_covid.csv')\n",
    "# df = df.drop(['rand_urban_dist', 'rand_non_urb_dist', 'leaid',\n",
    "#         'nlscdsch','fipst', 'cnty', 'lat', 'lon',\n",
    "#         'title_one', 'sch_level', 'gslo', 'gshi', 'g01',\n",
    "#         'g02', 'g03', 'g04', 'g05', 'g06', 'g07', 'g08', 'g09',\n",
    "#         'g10', 'g11','g12'], axis = 1)\n",
    "# df = df.rename(columns = {'sch_name' : 'school','lea_name': 'district',\n",
    "#                           'lcity': 'city','lstate':'state','nmcnty': 'county',\n",
    "#                           'lstreet':'address','lzip':'zip'})\n",
    "\n",
    "#For the scrape school list csv\n",
    "# df = pd.read_csv('scrape_school_list_v1.csv', index_col = 0)\n",
    "# df = df.drop(['lat','lon','private'], axis = 1)\n",
    "# df = df.rename(columns = {'sch_name' : 'school','dist_name': 'district',\n",
    "#                           'lstate':'state','street':'address','sch_level':'level'})\n",
    "# df = df.astype('object')\n",
    "\n",
    "#For reading the webscraping schools catalog\n",
    "# df = pd.read_csv('district_sample_web_catalog - schools.csv')\n",
    "# df = df.rename(columns = {'sch_name' : 'school','lea_name': 'district',\n",
    "#                           'lstate':'state','street':'address','sch_level':'level'})\n",
    "# df = df.astype('object')"
   ]
  },
  {
   "cell_type": "code",
   "execution_count": 55,
   "metadata": {},
   "outputs": [],
   "source": [
    "#Add leading zeros to zip codes\n",
    "df['zip']=df['zip'].apply(lambda x: str(x).zfill(5))\n",
    "#Converts to title case\n",
    "df = df.apply(lambda x: x.astype(str).str.title() if x.name not in ['address','state'] else x)\n"
   ]
  },
  {
   "cell_type": "code",
   "execution_count": 45,
   "metadata": {},
   "outputs": [],
   "source": [
    "#This dict is no longer needed but might be useful for improving speed later\n",
    "regex_dict = {r\"\\bh\\s*s\\b\": 'High School',#replaces hs with high school\n",
    "              r\"\\bm\\s*s\\b\": 'Middle School',#Same but for ms\n",
    "              r\"\\be\\s*s\\b\": 'Elementary School',#same but for es\n",
    "              r\"\\be\\s*l\\b\": 'Elementary',#replaces el with elementary school\n",
    "              r\"\\bsch\\b\": \"School\",#replaces sch with school\n",
    "              r\"\\balt\\b\": \"alternative\",#replaces alt with alternative\n",
    "              r\"\\bhigh$\": \"High School\",#adds school as the final word if name ends with high\n",
    "              r\"\\bElementary$\": \"Elementary School\",#adds school as the final word if name ends with middle\n",
    "              r\"\\bmiddle$\": \"Middle School\",#adds school as the final word if name ends with elementary\n",
    "              r\"/bacad/b\": \"Academy\",#Replaces acad with academy\n",
    "             }"
   ]
  },
  {
   "cell_type": "code",
   "execution_count": 46,
   "metadata": {},
   "outputs": [],
   "source": [
    "#add any more needed regex expressions\n",
    "regex_list = [(r'\\bh\\s*s\\b', 'High School'),#replaces hs with high school\n",
    "              (r'\\bj[r\\s]*h\\s*s\\b', 'Junior High School'),#replaces jhs or jrhs with junior high school\n",
    "              (r'\\br[r\\s]*h\\s*s\\b', 'Junior High School'),#replaces shs or srhs with senior high school\n",
    "              (r\"\\bm\\s*s\\b\", 'Middle School'),#Same but for ms\n",
    "              (r\"\\be\\s*s\\b\", 'Elementary School'),#same but for es\n",
    "              (r\"\\be\\s*l\\b\", 'Elementary'),#replaces el with elementary school\n",
    "              (r\"\\bsch\\b\", \"School\"),#replaces sch with school\n",
    "              (r\"\\balt\\b\", \"alternative\"),#replaces alt with alternative\n",
    "              (r\"\\bhigh$\", \"High School\"),#adds school as the final word if name ends with high\n",
    "              (r\"\\belementary$\", \"Elementary School\"),#adds school as the final word if name ends with middle\n",
    "              (r\"\\bmiddle$\", \"Middle School\"),#adds school as the final word if name ends with elementary\n",
    "              (r\"\\bmiddle$\", \"Middle School\"),#adds school as the final word if name ends with charter\n",
    "              (r\"\\bacad\\b\", \"Academy\"),#Replaces acad with academy\n",
    "              (r'__+', \"_\")#Cleans extra white space\n",
    "             ]"
   ]
  },
  {
   "cell_type": "code",
   "execution_count": 47,
   "metadata": {},
   "outputs": [],
   "source": [
    "def name_cleaning(text):\n",
    "    for pattern, replacement in regex_list:\n",
    "        text = re.sub(pattern,replacement,text,flags = re.I)\n",
    "    text = re.sub(\"school.*school\",lambda mo: mo.string[6:],text)#Removes the first occurnce of school if there are 2\n",
    "    return text"
   ]
  },
  {
   "cell_type": "code",
   "execution_count": 48,
   "metadata": {},
   "outputs": [],
   "source": [
    "#This did not work, but could theoreticcly be faster if that becomes an issue\n",
    "# def name_cleaning_dict(text):\n",
    "#     # Create a regular expression  from the dictionary keys\n",
    "#     regex = re.compile(\"(%s)\" % \"|\".join(map(re.escape, regex_dict.keys())),flags = re.I)\n",
    "#     # For each match, look-up corresponding value in dictionary\n",
    "#     text = regex.sub(lambda mo: regex_dict[mo.string[mo.start():mo.end()]], text)\n",
    "#     text = re.sub(\"school.*school\",lambda mo: mo.string[6:],text)#Removes the first occurnce of school if there are 2\n",
    "#     return text"
   ]
  },
  {
   "cell_type": "code",
   "execution_count": 56,
   "metadata": {},
   "outputs": [
    {
     "name": "stdout",
     "output_type": "stream",
     "text": [
      "4.75 ms ± 0 ns per loop (mean ± std. dev. of 1 run, 1 loop each)\n"
     ]
    }
   ],
   "source": [
    "%%timeit -r1 -n1\n",
    "df['cleaned'] = df['school'].apply(lambda x: name_cleaning(x))"
   ]
  },
  {
   "cell_type": "markdown",
   "metadata": {},
   "source": [
    "Note: Maybe we should filter by the school type so that its just elementary, high and middle\n",
    "Also question about whether we should add school to ones that end with elementary, middle, or high and then make sure it doesnt have school twice."
   ]
  },
  {
   "cell_type": "code",
   "execution_count": 50,
   "metadata": {},
   "outputs": [
    {
     "data": {
      "text/plain": [
       "7          Frederick Douglass High School\n",
       "73                Ridgeview Middle School\n",
       "105                 Westville High School\n",
       "8      Booker T. Washington Middle School\n",
       "109            Albert Powell Continuation\n",
       "82               Jordan Elementary School\n",
       "20         Richmond Heights Middle School\n",
       "9         Fountain Hill Elementary School\n",
       "65          Goldenview Colony School - 04\n",
       "13                 Broughal Middle School\n",
       "Name: cleaned, dtype: object"
      ]
     },
     "execution_count": 50,
     "metadata": {},
     "output_type": "execute_result"
    }
   ],
   "source": [
    "df.sample(10)['cleaned']"
   ]
  },
  {
   "cell_type": "code",
   "execution_count": 57,
   "metadata": {},
   "outputs": [],
   "source": [
    "#df.to_csv('district_sample_web_catalog - schools_cleaned.csv')"
   ]
  },
  {
   "cell_type": "code",
   "execution_count": null,
   "metadata": {},
   "outputs": [],
   "source": []
  },
  {
   "cell_type": "code",
   "execution_count": null,
   "metadata": {},
   "outputs": [],
   "source": []
  }
 ],
 "metadata": {
  "kernelspec": {
   "display_name": "Python 3",
   "language": "python",
   "name": "python3"
  },
  "language_info": {
   "codemirror_mode": {
    "name": "ipython",
    "version": 3
   },
   "file_extension": ".py",
   "mimetype": "text/x-python",
   "name": "python",
   "nbconvert_exporter": "python",
   "pygments_lexer": "ipython3",
   "version": "3.7.6"
  }
 },
 "nbformat": 4,
 "nbformat_minor": 4
}
