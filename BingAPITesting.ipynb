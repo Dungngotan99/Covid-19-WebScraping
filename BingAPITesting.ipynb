{
 "cells": [
  {
   "cell_type": "code",
   "execution_count": 39,
   "metadata": {},
   "outputs": [],
   "source": [
    "import requests\n",
    "import pandas as pd\n",
    "import time"
   ]
  },
  {
   "cell_type": "code",
   "execution_count": 21,
   "metadata": {},
   "outputs": [],
   "source": [
    "key = '72e4097c974d4ddebaa4a2a2674d70d3'\n",
    "endpoint = \"https://api.cognitive.microsoft.com/bing/v7.0/search\"\n",
    "headers = {\"Ocp-Apim-Subscription-Key\": key}\n",
    "params = {\"q\": '', \"textDecorations\": False, \"textFormat\": \"HTML\", 'count': 1,'responseFilter':'Webpages',}"
   ]
  },
  {
   "cell_type": "code",
   "execution_count": 22,
   "metadata": {},
   "outputs": [],
   "source": [
    "# MA_public_df = pd.read_csv('MA_public_schools.csv')\n",
    "# MA_private_df = pd.read_csv('MA_private_schools.csv')"
   ]
  },
  {
   "cell_type": "code",
   "execution_count": 23,
   "metadata": {},
   "outputs": [],
   "source": [
    "# test_schools_20 = pd.concat([MA_public_df.sample(n=10),MA_private_df.sample(n=10)]).astype('object')\n",
    "# test_schools_20 = test_schools_20.reset_index().drop('index',axis = 1)\n",
    "# test_schools_20.to_csv(\"MA_test_schools_20.csv\")"
   ]
  },
  {
   "cell_type": "code",
   "execution_count": 24,
   "metadata": {},
   "outputs": [],
   "source": [
    "test_schools_20 = pd.read_csv('MA_test_schools_20.csv', index_col = 0)"
   ]
  },
  {
   "cell_type": "code",
   "execution_count": 53,
   "metadata": {},
   "outputs": [],
   "source": [
    "#This currently has an 85% success rate\n",
    "def name_and_school(row):\n",
    "    search_term = row['Org Name']\n",
    "    if ':' in search_term:\n",
    "        search_term = search_term.split(':')[1]\n",
    "    if 'school' not in search_term.lower():\n",
    "        search_term += ' School'\n",
    "    return search_term"
   ]
  },
  {
   "cell_type": "code",
   "execution_count": 54,
   "metadata": {},
   "outputs": [],
   "source": [
    "def get_url(row,searchTermFunc):\n",
    "    params['q'] = searchTermFunc(row)\n",
    "    response = requests.get(endpoint, headers=headers, params=params)\n",
    "    search_results = response.json()\n",
    "    url = search_results['webPages']['value'][0]['url']\n",
    "    #To prevent calling the API too many times per second\n",
    "    time.sleep(.5)\n",
    "    return url"
   ]
  },
  {
   "cell_type": "code",
   "execution_count": 55,
   "metadata": {},
   "outputs": [],
   "source": [
    "#Be careful running this as it performs as many API calls as the test_schools_df and that is limited\n",
    "test_schools_20['url'] = test_schools_20.apply(get_url,args = [name_and_school],axis=1)"
   ]
  },
  {
   "cell_type": "code",
   "execution_count": 56,
   "metadata": {},
   "outputs": [
    {
     "data": {
      "text/html": [
       "<div>\n",
       "<style scoped>\n",
       "    .dataframe tbody tr th:only-of-type {\n",
       "        vertical-align: middle;\n",
       "    }\n",
       "\n",
       "    .dataframe tbody tr th {\n",
       "        vertical-align: top;\n",
       "    }\n",
       "\n",
       "    .dataframe thead th {\n",
       "        text-align: right;\n",
       "    }\n",
       "</style>\n",
       "<table border=\"1\" class=\"dataframe\">\n",
       "  <thead>\n",
       "    <tr style=\"text-align: right;\">\n",
       "      <th></th>\n",
       "      <th>Org Name</th>\n",
       "      <th>Org Type</th>\n",
       "      <th>Address 1</th>\n",
       "      <th>Town</th>\n",
       "      <th>State</th>\n",
       "      <th>Zip</th>\n",
       "      <th>url</th>\n",
       "    </tr>\n",
       "  </thead>\n",
       "  <tbody>\n",
       "    <tr>\n",
       "      <th>0</th>\n",
       "      <td>Acushnet: Acushnet Elementary School</td>\n",
       "      <td>Public School</td>\n",
       "      <td>800 Middle Road</td>\n",
       "      <td>Acushnet</td>\n",
       "      <td>MA</td>\n",
       "      <td>2743</td>\n",
       "      <td>https://www.acushnetschools.us/elementary-scho...</td>\n",
       "    </tr>\n",
       "    <tr>\n",
       "      <th>1</th>\n",
       "      <td>Franklin: Davis Thayer</td>\n",
       "      <td>Public School</td>\n",
       "      <td>137 West Central Street</td>\n",
       "      <td>Franklin</td>\n",
       "      <td>MA</td>\n",
       "      <td>2038</td>\n",
       "      <td>https://elementaryschools.org/directory/ma/cit...</td>\n",
       "    </tr>\n",
       "    <tr>\n",
       "      <th>2</th>\n",
       "      <td>Revere: Revere High</td>\n",
       "      <td>Public School</td>\n",
       "      <td>101 School Street</td>\n",
       "      <td>Revere</td>\n",
       "      <td>MA</td>\n",
       "      <td>2151</td>\n",
       "      <td>https://www.revereschools.org/</td>\n",
       "    </tr>\n",
       "    <tr>\n",
       "      <th>3</th>\n",
       "      <td>Pentucket: Helen R Donaghue School</td>\n",
       "      <td>Public School</td>\n",
       "      <td>24 Union Street Ext.</td>\n",
       "      <td>Merrimac</td>\n",
       "      <td>MA</td>\n",
       "      <td>1860</td>\n",
       "      <td>http://hrd-pentucketrsd-ma.schoolloop.com/</td>\n",
       "    </tr>\n",
       "    <tr>\n",
       "      <th>4</th>\n",
       "      <td>Quincy: Clifford H Marshall Elementary</td>\n",
       "      <td>Public School</td>\n",
       "      <td>200 Moody St Ext</td>\n",
       "      <td>Quincy</td>\n",
       "      <td>MA</td>\n",
       "      <td>2169</td>\n",
       "      <td>https://marshall.quincypublicschools.com/</td>\n",
       "    </tr>\n",
       "  </tbody>\n",
       "</table>\n",
       "</div>"
      ],
      "text/plain": [
       "                                 Org Name       Org Type  \\\n",
       "0    Acushnet: Acushnet Elementary School  Public School   \n",
       "1                  Franklin: Davis Thayer  Public School   \n",
       "2                     Revere: Revere High  Public School   \n",
       "3      Pentucket: Helen R Donaghue School  Public School   \n",
       "4  Quincy: Clifford H Marshall Elementary  Public School   \n",
       "\n",
       "                 Address 1      Town State   Zip  \\\n",
       "0          800 Middle Road  Acushnet    MA  2743   \n",
       "1  137 West Central Street  Franklin    MA  2038   \n",
       "2        101 School Street    Revere    MA  2151   \n",
       "3     24 Union Street Ext.  Merrimac    MA  1860   \n",
       "4         200 Moody St Ext    Quincy    MA  2169   \n",
       "\n",
       "                                                 url  \n",
       "0  https://www.acushnetschools.us/elementary-scho...  \n",
       "1  https://elementaryschools.org/directory/ma/cit...  \n",
       "2                     https://www.revereschools.org/  \n",
       "3         http://hrd-pentucketrsd-ma.schoolloop.com/  \n",
       "4          https://marshall.quincypublicschools.com/  "
      ]
     },
     "execution_count": 56,
     "metadata": {},
     "output_type": "execute_result"
    }
   ],
   "source": [
    "test_schools_20.head()"
   ]
  },
  {
   "cell_type": "code",
   "execution_count": 57,
   "metadata": {},
   "outputs": [
    {
     "name": "stdout",
     "output_type": "stream",
     "text": [
      "Acushnet: Acushnet Elementary School https://www.acushnetschools.us/elementary-school/resources\n",
      "Franklin: Davis Thayer https://elementaryschools.org/directory/ma/cities/franklin/davis-thayer/250501000736/\n",
      "Revere: Revere High https://www.revereschools.org/\n",
      "Pentucket: Helen R Donaghue School http://hrd-pentucketrsd-ma.schoolloop.com/\n",
      "Quincy: Clifford H Marshall Elementary https://marshall.quincypublicschools.com/\n",
      "Swansea: Elizabeth S Brown https://www.swanseaschools.org/\n",
      "Newton: Lincoln-Eliot https://www.newton.k12.ma.us/Page/25\n",
      "Hopedale: Memorial https://www.memorial-elementary-school.com/\n",
      "Boston: Lyon Upper 9-12 https://www.usnews.com/education/best-high-schools/massachusetts/districts/boston-public-schools/lyon-upper-9-12-91967\n",
      "Lynnfield: Lynnfield High https://www.lynnfield.k12.ma.us/\n",
      "Alhuda Academy http://alhudaacademy.org/\n",
      "Saint Augustine https://staugustinesunioncity.com/\n",
      "MetroWest Jewish Day School https://www.mwjds.org/\n",
      "New Covenant School Inc. https://www.facebook.com/newcovenantschool\n",
      "Mater Dolorosa http://materdolorosaschool.org/\n",
      "Trinity Catholic Academy https://trinitycatholicacademy.org/\n",
      "Epstein Hillel School https://epsteinhillel.org/\n",
      "St Joseph http://school.stjosephlnk.org/\n",
      "Pioneer Valley Montessori https://www.pvms.org/\n",
      "Our Lady Of The Valley https://www.olvbirmingham.com/\n"
     ]
    }
   ],
   "source": [
    "for i,row in test_schools_20.iterrows():\n",
    "    print(row['Org Name'],row['url'])"
   ]
  }
 ],
 "metadata": {
  "kernelspec": {
   "display_name": "Python 3",
   "language": "python",
   "name": "python3"
  },
  "language_info": {
   "codemirror_mode": {
    "name": "ipython",
    "version": 3
   },
   "file_extension": ".py",
   "mimetype": "text/x-python",
   "name": "python",
   "nbconvert_exporter": "python",
   "pygments_lexer": "ipython3",
   "version": "3.7.6"
  }
 },
 "nbformat": 4,
 "nbformat_minor": 4
}
