{
 "cells": [
  {
   "cell_type": "code",
   "execution_count": 58,
   "metadata": {},
   "outputs": [],
   "source": [
    "import requests\n",
    "import pandas as pd\n",
    "import time"
   ]
  },
  {
   "cell_type": "code",
   "execution_count": 59,
   "metadata": {},
   "outputs": [],
   "source": [
    "key = '72e4097c974d4ddebaa4a2a2674d70d3'\n",
    "endpoint = \"https://api.cognitive.microsoft.com/bing/v7.0/search\"\n",
    "headers = {\"Ocp-Apim-Subscription-Key\": key}\n",
    "params = {\"q\": '', \"textDecorations\": False, \"textFormat\": \"HTML\", 'count': 1,'responseFilter':'Webpages',}"
   ]
  },
  {
   "cell_type": "code",
   "execution_count": 60,
   "metadata": {},
   "outputs": [],
   "source": [
    "MA_public_df = pd.read_csv('MA_public_schools.csv')\n",
    "MA_private_df = pd.read_csv('MA_private_schools.csv')"
   ]
  },
  {
   "cell_type": "code",
   "execution_count": 61,
   "metadata": {},
   "outputs": [],
   "source": [
    "test_schools_20 = pd.concat([MA_public_df.sample(n=10),MA_private_df.sample(n=10)]).astype('object')\n",
    "test_schools_20 = test_schools_20.reset_index().drop('index',axis = 1)\n",
    "test_schools_20.to_csv(\"MA_test_schools_20.csv\")"
   ]
  },
  {
   "cell_type": "code",
   "execution_count": 62,
   "metadata": {},
   "outputs": [],
   "source": [
    "test_schools_20 = pd.read_csv('MA_test_schools_20.csv', index_col = 0)"
   ]
  },
  {
   "cell_type": "code",
   "execution_count": 63,
   "metadata": {},
   "outputs": [],
   "source": [
    "url_filters = ['facebook.com','elementaryschools.org','usnews.com','greatschools.org'\n",
    "              'niche.com','schooldigger.com','wikipedia.org']"
   ]
  },
  {
   "cell_type": "code",
   "execution_count": 64,
   "metadata": {},
   "outputs": [],
   "source": [
    "#This currently has an 85% success rate\n",
    "def name_and_school(row):\n",
    "    search_term = row['Org Name']\n",
    "    if ':' in search_term:\n",
    "        search_term = search_term.split(':')[1]\n",
    "    if 'school' not in search_term.lower():\n",
    "        search_term += ' School'\n",
    "    return search_term"
   ]
  },
  {
   "cell_type": "markdown",
   "metadata": {},
   "source": [
    "Might be improved by filtering out websites that are not correct and taking the first link not white listed.\n",
    "We could also try looking at those white listed sites to get the link from them as they often have that information but we would need to be careful."
   ]
  },
  {
   "cell_type": "code",
   "execution_count": 65,
   "metadata": {},
   "outputs": [],
   "source": [
    "def get_url(row,searchTermFunc):\n",
    "    params['q'] = searchTermFunc(row)\n",
    "    response = requests.get(endpoint, headers=headers, params=params)\n",
    "    search_results = response.json()\n",
    "    url = search_results['webPages']['value'][0]['url']\n",
    "    #To prevent calling the API too many times per second\n",
    "    time.sleep(.5)\n",
    "    return url"
   ]
  },
  {
   "cell_type": "code",
   "execution_count": 66,
   "metadata": {},
   "outputs": [],
   "source": [
    "#Be careful running this as it performs as many API calls as the test_schools_df and we have limited amounts of calls\n",
    "test_schools_20['url'] = test_schools_20.apply(get_url,args = [name_and_school],axis=1)"
   ]
  },
  {
   "cell_type": "code",
   "execution_count": 67,
   "metadata": {},
   "outputs": [
    {
     "data": {
      "text/html": [
       "<div>\n",
       "<style scoped>\n",
       "    .dataframe tbody tr th:only-of-type {\n",
       "        vertical-align: middle;\n",
       "    }\n",
       "\n",
       "    .dataframe tbody tr th {\n",
       "        vertical-align: top;\n",
       "    }\n",
       "\n",
       "    .dataframe thead th {\n",
       "        text-align: right;\n",
       "    }\n",
       "</style>\n",
       "<table border=\"1\" class=\"dataframe\">\n",
       "  <thead>\n",
       "    <tr style=\"text-align: right;\">\n",
       "      <th></th>\n",
       "      <th>Org Name</th>\n",
       "      <th>Org Type</th>\n",
       "      <th>Address 1</th>\n",
       "      <th>Town</th>\n",
       "      <th>State</th>\n",
       "      <th>Zip</th>\n",
       "      <th>url</th>\n",
       "    </tr>\n",
       "  </thead>\n",
       "  <tbody>\n",
       "    <tr>\n",
       "      <th>0</th>\n",
       "      <td>Methuen: Methuen High</td>\n",
       "      <td>Public School</td>\n",
       "      <td>1 Ranger Rd</td>\n",
       "      <td>Methuen</td>\n",
       "      <td>MA</td>\n",
       "      <td>1844</td>\n",
       "      <td>http://www.methuen.k12.ma.us/</td>\n",
       "    </tr>\n",
       "    <tr>\n",
       "      <th>1</th>\n",
       "      <td>Winthrop: Winthrop Middle School</td>\n",
       "      <td>Public School</td>\n",
       "      <td>60 Payson Street</td>\n",
       "      <td>Winthrop</td>\n",
       "      <td>MA</td>\n",
       "      <td>2152</td>\n",
       "      <td>https://www.winthrop.k12.ma.us/</td>\n",
       "    </tr>\n",
       "    <tr>\n",
       "      <th>2</th>\n",
       "      <td>Dudley-Charlton Reg: Shepherd Hill Regional High</td>\n",
       "      <td>Public School</td>\n",
       "      <td>68 Dudley Oxford Road</td>\n",
       "      <td>Dudley</td>\n",
       "      <td>MA</td>\n",
       "      <td>1571</td>\n",
       "      <td>http://www.dcrsd.org/schools/shepherd-hill-reg...</td>\n",
       "    </tr>\n",
       "    <tr>\n",
       "      <th>3</th>\n",
       "      <td>Sandwich: Sandwich STEM Academy</td>\n",
       "      <td>Public School</td>\n",
       "      <td>365 Quaker Meetinghouse Road</td>\n",
       "      <td>Sandwich</td>\n",
       "      <td>MA</td>\n",
       "      <td>2537</td>\n",
       "      <td>https://www.sandwichk12.org/schools/stem-academy</td>\n",
       "    </tr>\n",
       "    <tr>\n",
       "      <th>4</th>\n",
       "      <td>Westford: Westford Academy</td>\n",
       "      <td>Public School</td>\n",
       "      <td>30 Patten Road</td>\n",
       "      <td>Westford</td>\n",
       "      <td>MA</td>\n",
       "      <td>1886</td>\n",
       "      <td>https://www.niche.com/k12/westford-academy-wes...</td>\n",
       "    </tr>\n",
       "  </tbody>\n",
       "</table>\n",
       "</div>"
      ],
      "text/plain": [
       "                                           Org Name       Org Type  \\\n",
       "0                             Methuen: Methuen High  Public School   \n",
       "1                  Winthrop: Winthrop Middle School  Public School   \n",
       "2  Dudley-Charlton Reg: Shepherd Hill Regional High  Public School   \n",
       "3                   Sandwich: Sandwich STEM Academy  Public School   \n",
       "4                        Westford: Westford Academy  Public School   \n",
       "\n",
       "                      Address 1      Town State   Zip  \\\n",
       "0                   1 Ranger Rd   Methuen    MA  1844   \n",
       "1              60 Payson Street  Winthrop    MA  2152   \n",
       "2         68 Dudley Oxford Road    Dudley    MA  1571   \n",
       "3  365 Quaker Meetinghouse Road  Sandwich    MA  2537   \n",
       "4                30 Patten Road  Westford    MA  1886   \n",
       "\n",
       "                                                 url  \n",
       "0                      http://www.methuen.k12.ma.us/  \n",
       "1                    https://www.winthrop.k12.ma.us/  \n",
       "2  http://www.dcrsd.org/schools/shepherd-hill-reg...  \n",
       "3   https://www.sandwichk12.org/schools/stem-academy  \n",
       "4  https://www.niche.com/k12/westford-academy-wes...  "
      ]
     },
     "execution_count": 67,
     "metadata": {},
     "output_type": "execute_result"
    }
   ],
   "source": [
    "test_schools_20.head()"
   ]
  },
  {
   "cell_type": "code",
   "execution_count": 68,
   "metadata": {},
   "outputs": [
    {
     "name": "stdout",
     "output_type": "stream",
     "text": [
      "Methuen: Methuen High http://www.methuen.k12.ma.us/\n",
      "Winthrop: Winthrop Middle School https://www.winthrop.k12.ma.us/\n",
      "Dudley-Charlton Reg: Shepherd Hill Regional High http://www.dcrsd.org/schools/shepherd-hill-regional-high-school\n",
      "Sandwich: Sandwich STEM Academy https://www.sandwichk12.org/schools/stem-academy\n",
      "Westford: Westford Academy https://www.niche.com/k12/westford-academy-westford-ma/\n",
      "Pittsfield: Morningside Community School http://morningside.pittsfield.net/\n",
      "Woburn: Linscott-Rumford https://www.woburnpublicschools.com/linscott/\n",
      "Melrose: Roosevelt http://www.lyndhurstschools.net/school_home.aspx?schoolid=6\n",
      "Reading: Wood End Elementary School http://www.reading.k12.ma.us/woodend/\n",
      "Lowell: Lowell High https://www.lowell.k12.ma.us/lowelllhs\n",
      "North Shore Christian School - Beacon Campus http://nschristian.org/\n",
      "Saint Pius X School https://www.stpiusbowie.org/\n",
      "Bradford Christian Academy https://bradfordchristianacademy.org/\n",
      "Acera School https://www.aceraschool.org/\n",
      "St Bernadette School https://www.st-bernadette.org/\n",
      "St Joseph http://school.stjosephlnk.org/\n",
      "St Bernard Elementary http://www.sbepschools.org/\n",
      "The Winchendon School https://winchendon.org/\n",
      "Hollow Reed School http://hollowreedschool.com/\n",
      "St. Aloysius Catholic School http://school.aloysius.org/\n"
     ]
    }
   ],
   "source": [
    "for i,row in test_schools_20.iterrows():\n",
    "    print(row['Org Name'],row['url'])"
   ]
  },
  {
   "cell_type": "code",
   "execution_count": null,
   "metadata": {},
   "outputs": [],
   "source": []
  }
 ],
 "metadata": {
  "kernelspec": {
   "display_name": "Python 3",
   "language": "python",
   "name": "python3"
  },
  "language_info": {
   "codemirror_mode": {
    "name": "ipython",
    "version": 3
   },
   "file_extension": ".py",
   "mimetype": "text/x-python",
   "name": "python",
   "nbconvert_exporter": "python",
   "pygments_lexer": "ipython3",
   "version": "3.7.6"
  }
 },
 "nbformat": 4,
 "nbformat_minor": 4
}
