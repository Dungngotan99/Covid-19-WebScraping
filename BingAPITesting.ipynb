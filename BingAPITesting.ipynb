{
 "cells": [
  {
   "cell_type": "code",
   "execution_count": 57,
   "metadata": {},
   "outputs": [],
   "source": [
    "import requests\n",
    "import pandas as pd\n",
    "import time"
   ]
  },
  {
   "cell_type": "code",
   "execution_count": 4,
   "metadata": {},
   "outputs": [],
   "source": [
    "key = '72e4097c974d4ddebaa4a2a2674d70d3'\n",
    "endpoint = \"https://api.cognitive.microsoft.com/bing/v7.0/search\"\n",
    "headers = {\"Ocp-Apim-Subscription-Key\": key}\n",
    "params = {\"q\": '', \"textDecorations\": False, \"textFormat\": \"HTML\", 'count': 3,'responseFilter':'Webpages',}"
   ]
  },
  {
   "cell_type": "code",
   "execution_count": 56,
   "metadata": {},
   "outputs": [],
   "source": [
    "test_schools = pd.read_csv('scrape_school_list_v1_cleaned_with_correct_urls.csv', index_col = 0)\n",
    "test_schools['zip']=test_schools['zip'].apply(lambda x: str(x).zfill(5))\n"
   ]
  },
  {
   "cell_type": "code",
   "execution_count": 33,
   "metadata": {},
   "outputs": [],
   "source": [
    "#Currently created manually, might be better once we can run a lot of testing to just filter out domains that come up frequently\n",
    "url_filters = ['facebook.com','elementaryschools.org','usnews.com','greatschools.org',\n",
    "              'niche.com','schooldigger.com','wikipedia.org','publicschoolreview.com','areavibes.com','realtor.com']\n",
    "database_sites = ['greatschools.org','niche.com','schooldigger.com','elementaryschools.org','publicschoolreview.com']"
   ]
  },
  {
   "cell_type": "code",
   "execution_count": 7,
   "metadata": {},
   "outputs": [],
   "source": [
    "\"DO NOT CHANGE, USED TO GET CORRECT URLS\"\n",
    "def name_city(row):\n",
    "    search_term = row['cleaned']\n",
    "    if row['city'] not in search_term:\n",
    "        search_term += ' '+ row['city']\n",
    "    return search_term\n",
    "\n",
    "def name(row):\n",
    "    search_term = row['cleaned']\n",
    "    return search_term"
   ]
  },
  {
   "cell_type": "code",
   "execution_count": 22,
   "metadata": {},
   "outputs": [],
   "source": [
    "def whitelisted(url_string):\n",
    "    return any(website in url_string for website in url_filters)\n",
    "def is_database(url_string):\n",
    "    return any(website in url_string for website in databse_sites.values())"
   ]
  },
  {
   "cell_type": "markdown",
   "metadata": {},
   "source": [
    "Might be improved by filtering out websites that are not correct and taking the first link not white listed.\n",
    "We could also try looking at those white listed sites to get the link from them as they often have that information but we would need to be careful."
   ]
  },
  {
   "cell_type": "code",
   "execution_count": 38,
   "metadata": {},
   "outputs": [],
   "source": [
    "def get_url(row,searchTermFunc):\n",
    "    params['q'] = searchTermFunc(row)\n",
    "    response = requests.get(endpoint, headers=headers, params=params)\n",
    "    search_results = response.json()\n",
    "    urls = [search_results['webPages']['value'][i]['url'] for i in range(3)]\n",
    "    #To prevent calling the API too many times per second\n",
    "    time.sleep(.5)\n",
    "    if not any(check in urls[0] for check in url_filters):\n",
    "        return [urls[0],None]\n",
    "    for url in urls:\n",
    "        if any(check in url for check in database_sites):\n",
    "            return [None,url]\n",
    "    return [None,None]"
   ]
  },
  {
   "cell_type": "code",
   "execution_count": 39,
   "metadata": {},
   "outputs": [],
   "source": [
    "#Be careful running this as it performs as many API calls as the test_schools_df and we have limited amounts of calls\n",
    "results = test_schools_25.apply(get_url,args = [name_city],axis=1)\n",
    "test_schools_25['url'],test_schools_25['alt_url'] = map(list, zip(*results)) "
   ]
  },
  {
   "cell_type": "code",
   "execution_count": 10,
   "metadata": {},
   "outputs": [],
   "source": [
    "\"This was updated in the CSV and is no longer necesary\"\n",
    "# #Rename the colummn to go with the function uses\n",
    "# test_schools_25 = test_schools_25.rename(columns = {'url': 'simple_url_name_city'})\n",
    "# #Manually update the correct values \n",
    "# test_schools_25['correct_url'] = test_schools_25['simple_url_name_city']\n",
    "# test_schools_25.at[7,'correct_url'] = 'https://meansacademy.org/'\n",
    "# test_schools_25.at[9,'correct_url'] = 'https://www.guthrieps.net/vnews/display.v/SEC/GUES-Upper%20Elementary'\n",
    "# test_schools_25.at[11,'correct_url'] = 'https://pierre.k12.sd.us/kennedy.html'\n",
    "# test_schools_25.at[12,'correct_url'] = None\n",
    "# test_schools_25.at[20,'correct_url'] = None\n",
    "# test_schools_25.at[21,'correct_url'] = None\n",
    "# test_schools_25.at[22,'correct_url'] = None"
   ]
  },
  {
   "cell_type": "markdown",
   "metadata": {},
   "source": [
    "Notes on the simple name_url search and where correct urls came from\n",
    "Maine Academy Of Natural Sciences should be https://meansacademy.org/, linked on site we found, not accesible via search\n",
    "Guthrie Upper Elementary School went to the district home page, should go here: https://www.guthrieps.net/vnews/display.v/SEC/GUES-Upper%20Elementary, correct link was in top 3 results\n",
    "Kennedy Elementary - 08 https://pierre.k12.sd.us/kennedy.html\n",
    "Spring Grove Primary Center doesn't appear to have a site\n",
    "Chewelah Open Doors Reengagement Program is not a normal school but it seemed to go to the right place\n",
    "New Life Alternatives Christian Academy does not appear to have a site\n",
    "Morrow Valley Christian Academy does not appear to have a site\n",
    "Walnut Creek School does not appear to have a site\n",
    "\n"
   ]
  },
  {
   "cell_type": "code",
   "execution_count": 53,
   "metadata": {},
   "outputs": [
    {
     "name": "stdout",
     "output_type": "stream",
     "text": [
      "25\n"
     ]
    }
   ],
   "source": [
    "count = 0\n",
    "test_schools_25.at[12,'correct_url'] = 'http://www.usd499.org/'\n",
    "\n",
    "for i, row in test_schools_25.iterrows():\n",
    "    url = row['correct_url']\n",
    "    if url == 'None': url = None\n",
    "    if url == row['correct_url']:\n",
    "        count += 1\n",
    "    else:\n",
    "        print(i)\n"
   ]
  },
  {
   "cell_type": "code",
   "execution_count": 55,
   "metadata": {},
   "outputs": [
    {
     "data": {
      "text/html": [
       "<div>\n",
       "<style scoped>\n",
       "    .dataframe tbody tr th:only-of-type {\n",
       "        vertical-align: middle;\n",
       "    }\n",
       "\n",
       "    .dataframe tbody tr th {\n",
       "        vertical-align: top;\n",
       "    }\n",
       "\n",
       "    .dataframe thead th {\n",
       "        text-align: right;\n",
       "    }\n",
       "</style>\n",
       "<table border=\"1\" class=\"dataframe\">\n",
       "  <thead>\n",
       "    <tr style=\"text-align: right;\">\n",
       "      <th></th>\n",
       "      <th>id</th>\n",
       "      <th>level</th>\n",
       "      <th>dist_id</th>\n",
       "      <th>district</th>\n",
       "      <th>school</th>\n",
       "      <th>state</th>\n",
       "      <th>county</th>\n",
       "      <th>city</th>\n",
       "      <th>address</th>\n",
       "      <th>zip</th>\n",
       "      <th>cleaned</th>\n",
       "      <th>correct_url</th>\n",
       "      <th>url</th>\n",
       "      <th>alt_url</th>\n",
       "    </tr>\n",
       "    <tr>\n",
       "      <th>random_order</th>\n",
       "      <th></th>\n",
       "      <th></th>\n",
       "      <th></th>\n",
       "      <th></th>\n",
       "      <th></th>\n",
       "      <th></th>\n",
       "      <th></th>\n",
       "      <th></th>\n",
       "      <th></th>\n",
       "      <th></th>\n",
       "      <th></th>\n",
       "      <th></th>\n",
       "      <th></th>\n",
       "      <th></th>\n",
       "    </tr>\n",
       "  </thead>\n",
       "  <tbody>\n",
       "    <tr>\n",
       "      <th>25</th>\n",
       "      <td>Bb161222</td>\n",
       "      <td>Combined Elem/Sec</td>\n",
       "      <td>Nan</td>\n",
       "      <td>Nan</td>\n",
       "      <td>Evangel Christian Academy</td>\n",
       "      <td>LA</td>\n",
       "      <td>Caddo</td>\n",
       "      <td>Shreveport</td>\n",
       "      <td>5720 BUNCOMBE RD</td>\n",
       "      <td>71129</td>\n",
       "      <td>Evangel Christian Academy</td>\n",
       "      <td>https://www.evangelacademy.com/</td>\n",
       "      <td>https://www.evangelacademy.com/</td>\n",
       "      <td>None</td>\n",
       "    </tr>\n",
       "  </tbody>\n",
       "</table>\n",
       "</div>"
      ],
      "text/plain": [
       "                    id              level dist_id district  \\\n",
       "random_order                                                 \n",
       "25            Bb161222  Combined Elem/Sec     Nan      Nan   \n",
       "\n",
       "                                 school state county        city  \\\n",
       "random_order                                                       \n",
       "25            Evangel Christian Academy    LA  Caddo  Shreveport   \n",
       "\n",
       "                       address    zip                    cleaned  \\\n",
       "random_order                                                       \n",
       "25            5720 BUNCOMBE RD  71129  Evangel Christian Academy   \n",
       "\n",
       "                                  correct_url  \\\n",
       "random_order                                    \n",
       "25            https://www.evangelacademy.com/   \n",
       "\n",
       "                                          url alt_url  \n",
       "random_order                                           \n",
       "25            https://www.evangelacademy.com/    None  "
      ]
     },
     "execution_count": 55,
     "metadata": {},
     "output_type": "execute_result"
    }
   ],
   "source": [
    "test_schools_25.loc[[25]]"
   ]
  },
  {
   "cell_type": "code",
   "execution_count": 72,
   "metadata": {},
   "outputs": [],
   "source": []
  },
  {
   "cell_type": "code",
   "execution_count": null,
   "metadata": {},
   "outputs": [],
   "source": []
  }
 ],
 "metadata": {
  "kernelspec": {
   "display_name": "Python 3",
   "language": "python",
   "name": "python3"
  },
  "language_info": {
   "codemirror_mode": {
    "name": "ipython",
    "version": 3
   },
   "file_extension": ".py",
   "mimetype": "text/x-python",
   "name": "python",
   "nbconvert_exporter": "python",
   "pygments_lexer": "ipython3",
   "version": "3.7.6"
  }
 },
 "nbformat": 4,
 "nbformat_minor": 4
}
