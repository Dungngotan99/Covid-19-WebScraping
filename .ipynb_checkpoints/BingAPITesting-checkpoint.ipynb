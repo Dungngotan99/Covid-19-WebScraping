{
 "cells": [
  {
   "cell_type": "code",
   "execution_count": 17,
   "metadata": {},
   "outputs": [],
   "source": [
    "import requests\n",
    "import pandas as pd\n",
    "import time"
   ]
  },
  {
   "cell_type": "code",
   "execution_count": 18,
   "metadata": {},
   "outputs": [],
   "source": [
    "key = '72e4097c974d4ddebaa4a2a2674d70d3'\n",
    "endpoint = \"https://api.cognitive.microsoft.com/bing/v7.0/search\"\n",
    "headers = {\"Ocp-Apim-Subscription-Key\": key}\n",
    "params = {\"q\": '', \"textDecorations\": False, \"textFormat\": \"HTML\", 'count': 1,'responseFilter':'Webpages',}"
   ]
  },
  {
   "cell_type": "code",
   "execution_count": 39,
   "metadata": {},
   "outputs": [],
   "source": [
    "test_schools = pd.read_csv('scrape_school_list_v1_cleaned.csv', index_col = 0)\n",
    "test_schools['zip']=test_schools['zip'].apply(lambda x: str(x).zfill(5))\n",
    "test_schools_25 = pd.DataFrame(test_schools.loc[:25])"
   ]
  },
  {
   "cell_type": "code",
   "execution_count": 5,
   "metadata": {},
   "outputs": [],
   "source": [
    "#Currently created manually, might be better once we can run a lot of testing to just filter out domains that come up frequently\n",
    "url_filters = ['facebook.com','elementaryschools.org','usnews.com','greatschools.org'\n",
    "              'niche.com','schooldigger.com','wikipedia.org','publicschoolreview.com','areavibes.com']"
   ]
  },
  {
   "cell_type": "code",
   "execution_count": 58,
   "metadata": {},
   "outputs": [],
   "source": [
    "\"DO NOT CHANGE, USED TO GET CORRECT URLS\"\n",
    "def name_city(row):\n",
    "    search_term = row['cleaned']\n",
    "    if row['city'] not in search_term:\n",
    "        search_term += ' '+ row['city']\n",
    "    return search_term\n",
    "\n",
    "def name(row):\n",
    "    search_term = row['cleaned']\n",
    "    return search_term"
   ]
  },
  {
   "cell_type": "code",
   "execution_count": 60,
   "metadata": {},
   "outputs": [
    {
     "data": {
      "text/plain": [
       "random_order\n",
       "1                  Liberty Collegiate Academy Nashville\n",
       "2                   Wyoming Behavioral Institute Casper\n",
       "3                                The Sage School Hailey\n",
       "4               Dry Hollow Elementary School The Dalles\n",
       "5         Thw Logan School For Creative Learning Denver\n",
       "6                  Center For Advanced Learning Gresham\n",
       "7            Maine Academy Of Natural Sciences Hinckley\n",
       "8                       Toledo Islamic Academy Sylvania\n",
       "9                       Guthrie Upper Elementary School\n",
       "10                  Iqra Academy Of Utah Salt Lake City\n",
       "11                       Kennedy Elementary - 08 Pierre\n",
       "12                   Spring Grove Primary Center Galena\n",
       "13               Globe Academy Charter School I Atlanta\n",
       "14             Chewelah Open Doors Reengagement Program\n",
       "15             International High School Of New Orleans\n",
       "16    Somerset College Preparatory Academy Port Sain...\n",
       "17    Leelanau Montessori Public School Academy Sutt...\n",
       "18             Asa Messer Elementary. School Providence\n",
       "19        Dove Science Academy Tulsa Junior High School\n",
       "20    New Life Alternatives Christian Academy Philad...\n",
       "21            Morrow Valley Christian Academy Cane Hill\n",
       "22                        Walnut Creek School Jamesport\n",
       "23                   Cedar Park Elementary School Selma\n",
       "24                St Paul Catholic Grade School Mosinee\n",
       "25                 Evangel Christian Academy Shreveport\n",
       "dtype: object"
      ]
     },
     "execution_count": 60,
     "metadata": {},
     "output_type": "execute_result"
    }
   ],
   "source": [
    "test_schools_25.apply(name, axis = 1)"
   ]
  },
  {
   "cell_type": "markdown",
   "metadata": {},
   "source": [
    "Might be improved by filtering out websites that are not correct and taking the first link not white listed.\n",
    "We could also try looking at those white listed sites to get the link from them as they often have that information but we would need to be careful."
   ]
  },
  {
   "cell_type": "code",
   "execution_count": 61,
   "metadata": {},
   "outputs": [],
   "source": [
    "def get_url(row,searchTermFunc):\n",
    "    params['q'] = searchTermFunc(row)\n",
    "    response = requests.get(endpoint, headers=headers, params=params)\n",
    "    search_results = response.json()\n",
    "    url = search_results['webPages']['value'][0]['url']\n",
    "    #To prevent calling the API too many times per second\n",
    "    time.sleep(.5)\n",
    "    return url"
   ]
  },
  {
   "cell_type": "code",
   "execution_count": 62,
   "metadata": {},
   "outputs": [],
   "source": [
    "#Be careful running this as it performs as many API calls as the test_schools_df and we have limited amounts of calls\n",
    "test_schools_25['url'] = test_schools_25.apply(get_url,args = [name_city],axis=1)\n",
    "#Rename the colummn to go with the function uses\n",
    "test_schools_25 = test_schools_25.rename(columns = {'url': 'simple_url_name_city'})\n",
    "#Manually update the correct values \n",
    "test_schools_25['correct_url'] = test_schools_25['simple_url_name_city']\n",
    "test_schools_25.at[7,'correct_url'] = 'https://meansacademy.org/'\n",
    "test_schools_25.at[9,'correct_url'] = 'https://www.guthrieps.net/vnews/display.v/SEC/GUES-Upper%20Elementary'\n",
    "test_schools_25.at[11,'correct_url'] = 'https://pierre.k12.sd.us/kennedy.html'\n",
    "test_schools_25.at[12,'correct_url'] = None\n",
    "test_schools_25.at[20,'correct_url'] = None\n",
    "test_schools_25.at[21,'correct_url'] = None\n",
    "test_schools_25.at[22,'correct_url'] = None"
   ]
  },
  {
   "cell_type": "markdown",
   "metadata": {},
   "source": [
    "Notes on the simple name_url search and where correct urls came from\n",
    "Maine Academy Of Natural Sciences should be https://meansacademy.org/, linked on site we found, not accesible via search\n",
    "Guthrie Upper Elementary School went to the district home page, should go here: https://www.guthrieps.net/vnews/display.v/SEC/GUES-Upper%20Elementary, correct link was in top 3 results\n",
    "Kennedy Elementary - 08 https://pierre.k12.sd.us/kennedy.html\n",
    "Spring Grove Primary Center doesn't appear to have a site\n",
    "Chewelah Open Doors Reengagement Program is not a normal school but it seemed to go to the right place\n",
    "New Life Alternatives Christian Academy does not appear to have a site\n",
    "Morrow Valley Christian Academy does not appear to have a site\n",
    "Walnut Creek School does not appear to have a site\n",
    "\n"
   ]
  },
  {
   "cell_type": "code",
   "execution_count": 74,
   "metadata": {},
   "outputs": [
    {
     "data": {
      "text/plain": [
       "id                                                           465526001353\n",
       "level                                                          Elementary\n",
       "dist_id                                                         4655260.0\n",
       "district                                      Pierre School District 32-2\n",
       "school                                            Kennedy Elementary - 08\n",
       "state                                                                  SD\n",
       "county                                                      Hughes County\n",
       "city                                                               Pierre\n",
       "address                                              2306 Brookstone Loop\n",
       "zip                                                                 57501\n",
       "cleaned                                           Kennedy Elementary - 08\n",
       "simple_url_name_city    https://www.greatschools.org/south-dakota/pier...\n",
       "correct_url                         https://pierre.k12.sd.us/kennedy.html\n",
       "Name: 11, dtype: object"
      ]
     },
     "execution_count": 74,
     "metadata": {},
     "output_type": "execute_result"
    }
   ],
   "source": [
    "test_schools_25.loc[11]"
   ]
  },
  {
   "cell_type": "code",
   "execution_count": 68,
   "metadata": {},
   "outputs": [],
   "source": []
  },
  {
   "cell_type": "code",
   "execution_count": 72,
   "metadata": {},
   "outputs": [],
   "source": []
  },
  {
   "cell_type": "code",
   "execution_count": null,
   "metadata": {},
   "outputs": [],
   "source": []
  }
 ],
 "metadata": {
  "kernelspec": {
   "display_name": "Python 3",
   "language": "python",
   "name": "python3"
  },
  "language_info": {
   "codemirror_mode": {
    "name": "ipython",
    "version": 3
   },
   "file_extension": ".py",
   "mimetype": "text/x-python",
   "name": "python",
   "nbconvert_exporter": "python",
   "pygments_lexer": "ipython3",
   "version": "3.7.6"
  }
 },
 "nbformat": 4,
 "nbformat_minor": 4
}
