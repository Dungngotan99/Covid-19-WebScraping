{
 "cells": [
  {
   "cell_type": "code",
   "execution_count": 1,
   "metadata": {},
   "outputs": [],
   "source": [
    "import requests\n",
    "import pandas as pd\n",
    "import time"
   ]
  },
  {
   "cell_type": "code",
   "execution_count": 2,
   "metadata": {},
   "outputs": [],
   "source": [
    "key = '72e4097c974d4ddebaa4a2a2674d70d3'\n",
    "endpoint = \"https://api.cognitive.microsoft.com/bing/v7.0/search\"\n",
    "headers = {\"Ocp-Apim-Subscription-Key\": key}\n",
    "params = {\"q\": '', \"textDecorations\": False, \"textFormat\": \"HTML\", 'count': 1,'responseFilter':'Webpages',}"
   ]
  },
  {
   "cell_type": "code",
   "execution_count": 3,
   "metadata": {},
   "outputs": [],
   "source": [
    "test_schools_raw = pd.read_csv('school_sample_25.csv', index_col = 0)"
   ]
  },
  {
   "cell_type": "code",
   "execution_count": 4,
   "metadata": {},
   "outputs": [],
   "source": [
    "test_schools = test_schools_raw.drop(['rand_urban_dist', 'rand_non_urb_dist', 'leaid', 'nlscdsch',\n",
    "        'fipst', 'cnty', 'lat', 'lon',\n",
    "        'title_one', 'sch_level', 'gslo', 'gshi', 'g01',\n",
    "       'g02', 'g03', 'g04', 'g05', 'g06', 'g07', 'g08', 'g09', 'g10', 'g11',\n",
    "       'g12', 'school_sample'], axis = 1)"
   ]
  },
  {
   "cell_type": "code",
   "execution_count": 5,
   "metadata": {},
   "outputs": [],
   "source": [
    "url_filters = ['facebook.com','elementaryschools.org','usnews.com','greatschools.org'\n",
    "              'niche.com','schooldigger.com','wikipedia.org']"
   ]
  },
  {
   "cell_type": "code",
   "execution_count": 6,
   "metadata": {},
   "outputs": [],
   "source": [
    "def name(row):\n",
    "    search_term = row['sch_name']\n",
    "    return search_term"
   ]
  },
  {
   "cell_type": "markdown",
   "metadata": {},
   "source": [
    "Might be improved by filtering out websites that are not correct and taking the first link not white listed.\n",
    "We could also try looking at those white listed sites to get the link from them as they often have that information but we would need to be careful."
   ]
  },
  {
   "cell_type": "code",
   "execution_count": 7,
   "metadata": {},
   "outputs": [],
   "source": [
    "def get_url(row,searchTermFunc):\n",
    "    params['q'] = searchTermFunc(row)\n",
    "    response = requests.get(endpoint, headers=headers, params=params)\n",
    "    search_results = response.json()\n",
    "    url = search_results['webPages']['value'][0]['url']\n",
    "    #To prevent calling the API too many times per second\n",
    "    time.sleep(.5)\n",
    "    return url"
   ]
  },
  {
   "cell_type": "code",
   "execution_count": 8,
   "metadata": {},
   "outputs": [],
   "source": [
    "#Be careful running this as it performs as many API calls as the test_schools_df and we have limited amounts of calls\n",
    "test_schools['url'] = test_schools.apply(get_url,args = [name],axis=1)"
   ]
  },
  {
   "cell_type": "code",
   "execution_count": 9,
   "metadata": {},
   "outputs": [
    {
     "data": {
      "text/html": [
       "<div>\n",
       "<style scoped>\n",
       "    .dataframe tbody tr th:only-of-type {\n",
       "        vertical-align: middle;\n",
       "    }\n",
       "\n",
       "    .dataframe tbody tr th {\n",
       "        vertical-align: top;\n",
       "    }\n",
       "\n",
       "    .dataframe thead th {\n",
       "        text-align: right;\n",
       "    }\n",
       "</style>\n",
       "<table border=\"1\" class=\"dataframe\">\n",
       "  <thead>\n",
       "    <tr style=\"text-align: right;\">\n",
       "      <th></th>\n",
       "      <th>sch_name</th>\n",
       "      <th>lea_name</th>\n",
       "      <th>lcity</th>\n",
       "      <th>lstate</th>\n",
       "      <th>nmcnty</th>\n",
       "      <th>lstreet</th>\n",
       "      <th>lzip</th>\n",
       "      <th>url</th>\n",
       "    </tr>\n",
       "  </thead>\n",
       "  <tbody>\n",
       "    <tr>\n",
       "      <th>1077</th>\n",
       "      <td>Fountain Hill El Sch</td>\n",
       "      <td>BETHLEHEM AREA SD</td>\n",
       "      <td>BETHLEHEM</td>\n",
       "      <td>PA</td>\n",
       "      <td>LEHIGH COUNTY</td>\n",
       "      <td>1330 Church St</td>\n",
       "      <td>18015</td>\n",
       "      <td>https://www.fountainhillsschools.org/</td>\n",
       "    </tr>\n",
       "    <tr>\n",
       "      <th>830</th>\n",
       "      <td>Sanford Jr High School</td>\n",
       "      <td>SANFORD PUBLIC SCHOOLS</td>\n",
       "      <td>SANFORD</td>\n",
       "      <td>ME</td>\n",
       "      <td>YORK COUNTY</td>\n",
       "      <td>708  Main Street</td>\n",
       "      <td>4073</td>\n",
       "      <td>https://www.sanford.org/o/sanford-jr-high-school</td>\n",
       "    </tr>\n",
       "    <tr>\n",
       "      <th>815</th>\n",
       "      <td>Redmond High</td>\n",
       "      <td>LAKE WASHINGTON SCHOOL DISTRICT</td>\n",
       "      <td>REDMOND</td>\n",
       "      <td>WA</td>\n",
       "      <td>KING COUNTY</td>\n",
       "      <td>17272 NE 104th</td>\n",
       "      <td>98052</td>\n",
       "      <td>https://rhs.lwsd.org/</td>\n",
       "    </tr>\n",
       "    <tr>\n",
       "      <th>1348</th>\n",
       "      <td>OKAY ES</td>\n",
       "      <td>OKAY</td>\n",
       "      <td>OKAY</td>\n",
       "      <td>OK</td>\n",
       "      <td>WAGONER COUNTY</td>\n",
       "      <td>8611 N  49th Street East</td>\n",
       "      <td>74446</td>\n",
       "      <td>http://www.rootdownwinecellars.com/es-okay/</td>\n",
       "    </tr>\n",
       "    <tr>\n",
       "      <th>421</th>\n",
       "      <td>BOOKER T. WASHINGTON SENIOR HIGH</td>\n",
       "      <td>DADE</td>\n",
       "      <td>MIAMI</td>\n",
       "      <td>FL</td>\n",
       "      <td>MIAMI-DADE COUNTY</td>\n",
       "      <td>1200 NW 6TH AVE</td>\n",
       "      <td>33136</td>\n",
       "      <td>https://www.btwtornadoes.org/</td>\n",
       "    </tr>\n",
       "  </tbody>\n",
       "</table>\n",
       "</div>"
      ],
      "text/plain": [
       "                              sch_name                         lea_name  \\\n",
       "1077              Fountain Hill El Sch                BETHLEHEM AREA SD   \n",
       "830             Sanford Jr High School           SANFORD PUBLIC SCHOOLS   \n",
       "815                       Redmond High  LAKE WASHINGTON SCHOOL DISTRICT   \n",
       "1348                           OKAY ES                             OKAY   \n",
       "421   BOOKER T. WASHINGTON SENIOR HIGH                             DADE   \n",
       "\n",
       "          lcity lstate             nmcnty                   lstreet   lzip  \\\n",
       "1077  BETHLEHEM     PA      LEHIGH COUNTY            1330 Church St  18015   \n",
       "830     SANFORD     ME        YORK COUNTY          708  Main Street   4073   \n",
       "815     REDMOND     WA        KING COUNTY            17272 NE 104th  98052   \n",
       "1348       OKAY     OK     WAGONER COUNTY  8611 N  49th Street East  74446   \n",
       "421       MIAMI     FL  MIAMI-DADE COUNTY           1200 NW 6TH AVE  33136   \n",
       "\n",
       "                                                   url  \n",
       "1077             https://www.fountainhillsschools.org/  \n",
       "830   https://www.sanford.org/o/sanford-jr-high-school  \n",
       "815                              https://rhs.lwsd.org/  \n",
       "1348       http://www.rootdownwinecellars.com/es-okay/  \n",
       "421                      https://www.btwtornadoes.org/  "
      ]
     },
     "execution_count": 9,
     "metadata": {},
     "output_type": "execute_result"
    }
   ],
   "source": [
    "test_schools.head()"
   ]
  },
  {
   "cell_type": "code",
   "execution_count": 10,
   "metadata": {},
   "outputs": [
    {
     "name": "stdout",
     "output_type": "stream",
     "text": [
      "Fountain Hill El Sch https://www.fountainhillsschools.org/\n",
      "Sanford Jr High School https://www.sanford.org/o/sanford-jr-high-school\n",
      "Redmond High https://rhs.lwsd.org/\n",
      "OKAY ES http://www.rootdownwinecellars.com/es-okay/\n",
      "BOOKER T. WASHINGTON SENIOR HIGH https://www.btwtornadoes.org/\n",
      "Ridgeview Middle http://ridgeview.roundrockisd.org/\n",
      "Glenarden Woods Elementary http://www1.pgcps.org/glenardenwoods/\n",
      "Gray Avenue Middle http://gray.ycusd.org/\n",
      "Willard School https://www.willardschools.net/\n",
      "McCook Central Middle School - 03 https://elementaryschools.org/directory/sd/cities/salem/mccook-central-middle-school-03/460102601034/\n",
      "Portola Middle https://www.portolams.org/\n",
      "CENTER STREET SCHOOL https://www.centerstreetschool.org/\n",
      "Milwaukie High School https://www.nclack.k12.or.us/mhs\n",
      "CLARK MIDDLE http://schools.friscoisd.org/campus/middle-school/clark/home\n",
      "Adelanto Elementary http://www.aesd.net/\n",
      "West Orange Elementary https://es.woccisd.net/\n",
      "South Laurel Middle School http://www.laurel.k12.ky.us/school_home.aspx?schoolid=4\n",
      "Hamilton Elementary/Middle https://www.hamiltonelementarymiddle.org/\n",
      "Academy of Health Sciences at PGCC https://www.pgcps.org/academyatpgcc/\n",
      "Alcott Elementary https://alcott.lwsd.org/\n",
      "Stella Schola https://ssms.lwsd.org/\n",
      "Riverside Elementary School https://www.gcpsk12.org/RiversideES\n",
      "SCOTT EL https://www.imdb.com/name/nm2040932/\n",
      "RICHMOND HEIGHTS MIDDLE SCHOOL http://richmondheightsmiddle.com/\n",
      "Broughal MS https://basdwpweb.beth.k12.pa.us/broughal/\n"
     ]
    }
   ],
   "source": [
    "for i,row in test_schools.iterrows():\n",
    "    print(row['sch_name'],row['url'])"
   ]
  },
  {
   "cell_type": "code",
   "execution_count": null,
   "metadata": {},
   "outputs": [],
   "source": []
  }
 ],
 "metadata": {
  "kernelspec": {
   "display_name": "Python 3",
   "language": "python",
   "name": "python3"
  },
  "language_info": {
   "codemirror_mode": {
    "name": "ipython",
    "version": 3
   },
   "file_extension": ".py",
   "mimetype": "text/x-python",
   "name": "python",
   "nbconvert_exporter": "python",
   "pygments_lexer": "ipython3",
   "version": "3.7.6"
  }
 },
 "nbformat": 4,
 "nbformat_minor": 4
}
